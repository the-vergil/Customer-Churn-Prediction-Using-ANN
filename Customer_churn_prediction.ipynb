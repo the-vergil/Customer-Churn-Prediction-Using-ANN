{
 "cells": [
  {
   "cell_type": "markdown",
   "id": "35515b32",
   "metadata": {},
   "source": [
    "## Import Libraries"
   ]
  },
  {
   "cell_type": "code",
   "execution_count": 1,
   "id": "d1fa4579",
   "metadata": {},
   "outputs": [],
   "source": [
    "import numpy as np\n",
    "import pandas as pd\n",
    "import matplotlib.pyplot as plt\n",
    "import seaborn as sns\n",
    "from sklearn.model_selection import train_test_split\n",
    "from sklearn.preprocessing import MinMaxScaler\n",
    "import tensorflow as tf\n",
    "from tensorflow import keras\n",
    "from sklearn.metrics import classification_report, confusion_matrix\n",
    "import pickle\n",
    "import joblib"
   ]
  },
  {
   "cell_type": "markdown",
   "id": "b9419aca",
   "metadata": {},
   "source": [
    "## Data Cleaning"
   ]
  },
  {
   "cell_type": "code",
   "execution_count": 2,
   "id": "d8541d73",
   "metadata": {},
   "outputs": [],
   "source": [
    "# import dataset\n",
    "df = pd.read_csv(\"Telco-Customer-Churn.csv\")"
   ]
  },
  {
   "cell_type": "code",
   "execution_count": 3,
   "id": "e29b046f",
   "metadata": {},
   "outputs": [
    {
     "data": {
      "text/plain": [
       "(7043, 21)"
      ]
     },
     "execution_count": 3,
     "metadata": {},
     "output_type": "execute_result"
    }
   ],
   "source": [
    "# shape of data\n",
    "df.shape"
   ]
  },
  {
   "cell_type": "code",
   "execution_count": 4,
   "id": "1b6fbbf4",
   "metadata": {},
   "outputs": [
    {
     "data": {
      "text/html": [
       "<div>\n",
       "<style scoped>\n",
       "    .dataframe tbody tr th:only-of-type {\n",
       "        vertical-align: middle;\n",
       "    }\n",
       "\n",
       "    .dataframe tbody tr th {\n",
       "        vertical-align: top;\n",
       "    }\n",
       "\n",
       "    .dataframe thead th {\n",
       "        text-align: right;\n",
       "    }\n",
       "</style>\n",
       "<table border=\"1\" class=\"dataframe\">\n",
       "  <thead>\n",
       "    <tr style=\"text-align: right;\">\n",
       "      <th></th>\n",
       "      <th>customerID</th>\n",
       "      <th>gender</th>\n",
       "      <th>SeniorCitizen</th>\n",
       "      <th>Partner</th>\n",
       "      <th>Dependents</th>\n",
       "      <th>tenure</th>\n",
       "      <th>PhoneService</th>\n",
       "      <th>MultipleLines</th>\n",
       "      <th>InternetService</th>\n",
       "      <th>OnlineSecurity</th>\n",
       "      <th>...</th>\n",
       "      <th>DeviceProtection</th>\n",
       "      <th>TechSupport</th>\n",
       "      <th>StreamingTV</th>\n",
       "      <th>StreamingMovies</th>\n",
       "      <th>Contract</th>\n",
       "      <th>PaperlessBilling</th>\n",
       "      <th>PaymentMethod</th>\n",
       "      <th>MonthlyCharges</th>\n",
       "      <th>TotalCharges</th>\n",
       "      <th>Churn</th>\n",
       "    </tr>\n",
       "  </thead>\n",
       "  <tbody>\n",
       "    <tr>\n",
       "      <th>0</th>\n",
       "      <td>7590-VHVEG</td>\n",
       "      <td>Female</td>\n",
       "      <td>0</td>\n",
       "      <td>Yes</td>\n",
       "      <td>No</td>\n",
       "      <td>1</td>\n",
       "      <td>No</td>\n",
       "      <td>No phone service</td>\n",
       "      <td>DSL</td>\n",
       "      <td>No</td>\n",
       "      <td>...</td>\n",
       "      <td>No</td>\n",
       "      <td>No</td>\n",
       "      <td>No</td>\n",
       "      <td>No</td>\n",
       "      <td>Month-to-month</td>\n",
       "      <td>Yes</td>\n",
       "      <td>Electronic check</td>\n",
       "      <td>29.85</td>\n",
       "      <td>29.85</td>\n",
       "      <td>No</td>\n",
       "    </tr>\n",
       "    <tr>\n",
       "      <th>1</th>\n",
       "      <td>5575-GNVDE</td>\n",
       "      <td>Male</td>\n",
       "      <td>0</td>\n",
       "      <td>No</td>\n",
       "      <td>No</td>\n",
       "      <td>34</td>\n",
       "      <td>Yes</td>\n",
       "      <td>No</td>\n",
       "      <td>DSL</td>\n",
       "      <td>Yes</td>\n",
       "      <td>...</td>\n",
       "      <td>Yes</td>\n",
       "      <td>No</td>\n",
       "      <td>No</td>\n",
       "      <td>No</td>\n",
       "      <td>One year</td>\n",
       "      <td>No</td>\n",
       "      <td>Mailed check</td>\n",
       "      <td>56.95</td>\n",
       "      <td>1889.5</td>\n",
       "      <td>No</td>\n",
       "    </tr>\n",
       "    <tr>\n",
       "      <th>2</th>\n",
       "      <td>3668-QPYBK</td>\n",
       "      <td>Male</td>\n",
       "      <td>0</td>\n",
       "      <td>No</td>\n",
       "      <td>No</td>\n",
       "      <td>2</td>\n",
       "      <td>Yes</td>\n",
       "      <td>No</td>\n",
       "      <td>DSL</td>\n",
       "      <td>Yes</td>\n",
       "      <td>...</td>\n",
       "      <td>No</td>\n",
       "      <td>No</td>\n",
       "      <td>No</td>\n",
       "      <td>No</td>\n",
       "      <td>Month-to-month</td>\n",
       "      <td>Yes</td>\n",
       "      <td>Mailed check</td>\n",
       "      <td>53.85</td>\n",
       "      <td>108.15</td>\n",
       "      <td>Yes</td>\n",
       "    </tr>\n",
       "  </tbody>\n",
       "</table>\n",
       "<p>3 rows × 21 columns</p>\n",
       "</div>"
      ],
      "text/plain": [
       "   customerID  gender  SeniorCitizen Partner Dependents  tenure PhoneService  \\\n",
       "0  7590-VHVEG  Female              0     Yes         No       1           No   \n",
       "1  5575-GNVDE    Male              0      No         No      34          Yes   \n",
       "2  3668-QPYBK    Male              0      No         No       2          Yes   \n",
       "\n",
       "      MultipleLines InternetService OnlineSecurity  ... DeviceProtection  \\\n",
       "0  No phone service             DSL             No  ...               No   \n",
       "1                No             DSL            Yes  ...              Yes   \n",
       "2                No             DSL            Yes  ...               No   \n",
       "\n",
       "  TechSupport StreamingTV StreamingMovies        Contract PaperlessBilling  \\\n",
       "0          No          No              No  Month-to-month              Yes   \n",
       "1          No          No              No        One year               No   \n",
       "2          No          No              No  Month-to-month              Yes   \n",
       "\n",
       "      PaymentMethod MonthlyCharges  TotalCharges Churn  \n",
       "0  Electronic check          29.85         29.85    No  \n",
       "1      Mailed check          56.95        1889.5    No  \n",
       "2      Mailed check          53.85        108.15   Yes  \n",
       "\n",
       "[3 rows x 21 columns]"
      ]
     },
     "execution_count": 4,
     "metadata": {},
     "output_type": "execute_result"
    }
   ],
   "source": [
    "# top 3 rows\n",
    "df.head(3)"
   ]
  },
  {
   "cell_type": "code",
   "execution_count": 5,
   "id": "41b3d299",
   "metadata": {},
   "outputs": [],
   "source": [
    "# drop the customerID column\n",
    "df = df.drop(\"customerID\", axis=1)"
   ]
  },
  {
   "cell_type": "code",
   "execution_count": 6,
   "id": "1c4cbcba",
   "metadata": {},
   "outputs": [
    {
     "data": {
      "text/plain": [
       "gender              0\n",
       "SeniorCitizen       0\n",
       "Partner             0\n",
       "Dependents          0\n",
       "tenure              0\n",
       "PhoneService        0\n",
       "MultipleLines       0\n",
       "InternetService     0\n",
       "OnlineSecurity      0\n",
       "OnlineBackup        0\n",
       "DeviceProtection    0\n",
       "TechSupport         0\n",
       "StreamingTV         0\n",
       "StreamingMovies     0\n",
       "Contract            0\n",
       "PaperlessBilling    0\n",
       "PaymentMethod       0\n",
       "MonthlyCharges      0\n",
       "TotalCharges        0\n",
       "Churn               0\n",
       "dtype: int64"
      ]
     },
     "execution_count": 6,
     "metadata": {},
     "output_type": "execute_result"
    }
   ],
   "source": [
    "# check for null values\n",
    "df.isnull().sum()"
   ]
  },
  {
   "cell_type": "code",
   "execution_count": 7,
   "id": "2151e3d3",
   "metadata": {},
   "outputs": [
    {
     "data": {
      "text/plain": [
       "gender               object\n",
       "SeniorCitizen         int64\n",
       "Partner              object\n",
       "Dependents           object\n",
       "tenure                int64\n",
       "PhoneService         object\n",
       "MultipleLines        object\n",
       "InternetService      object\n",
       "OnlineSecurity       object\n",
       "OnlineBackup         object\n",
       "DeviceProtection     object\n",
       "TechSupport          object\n",
       "StreamingTV          object\n",
       "StreamingMovies      object\n",
       "Contract             object\n",
       "PaperlessBilling     object\n",
       "PaymentMethod        object\n",
       "MonthlyCharges      float64\n",
       "TotalCharges         object\n",
       "Churn                object\n",
       "dtype: object"
      ]
     },
     "execution_count": 7,
     "metadata": {},
     "output_type": "execute_result"
    }
   ],
   "source": [
    "# check datatypes of columns\n",
    "df.dtypes"
   ]
  },
  {
   "cell_type": "code",
   "execution_count": 8,
   "id": "204162be",
   "metadata": {},
   "outputs": [
    {
     "data": {
      "text/html": [
       "<div>\n",
       "<style scoped>\n",
       "    .dataframe tbody tr th:only-of-type {\n",
       "        vertical-align: middle;\n",
       "    }\n",
       "\n",
       "    .dataframe tbody tr th {\n",
       "        vertical-align: top;\n",
       "    }\n",
       "\n",
       "    .dataframe thead th {\n",
       "        text-align: right;\n",
       "    }\n",
       "</style>\n",
       "<table border=\"1\" class=\"dataframe\">\n",
       "  <thead>\n",
       "    <tr style=\"text-align: right;\">\n",
       "      <th></th>\n",
       "      <th>gender</th>\n",
       "      <th>SeniorCitizen</th>\n",
       "      <th>Partner</th>\n",
       "      <th>Dependents</th>\n",
       "      <th>tenure</th>\n",
       "      <th>PhoneService</th>\n",
       "      <th>MultipleLines</th>\n",
       "      <th>InternetService</th>\n",
       "      <th>OnlineSecurity</th>\n",
       "      <th>OnlineBackup</th>\n",
       "      <th>DeviceProtection</th>\n",
       "      <th>TechSupport</th>\n",
       "      <th>StreamingTV</th>\n",
       "      <th>StreamingMovies</th>\n",
       "      <th>Contract</th>\n",
       "      <th>PaperlessBilling</th>\n",
       "      <th>PaymentMethod</th>\n",
       "      <th>MonthlyCharges</th>\n",
       "      <th>TotalCharges</th>\n",
       "      <th>Churn</th>\n",
       "    </tr>\n",
       "  </thead>\n",
       "  <tbody>\n",
       "    <tr>\n",
       "      <th>488</th>\n",
       "      <td>Female</td>\n",
       "      <td>0</td>\n",
       "      <td>Yes</td>\n",
       "      <td>Yes</td>\n",
       "      <td>0</td>\n",
       "      <td>No</td>\n",
       "      <td>No phone service</td>\n",
       "      <td>DSL</td>\n",
       "      <td>Yes</td>\n",
       "      <td>No</td>\n",
       "      <td>Yes</td>\n",
       "      <td>Yes</td>\n",
       "      <td>Yes</td>\n",
       "      <td>No</td>\n",
       "      <td>Two year</td>\n",
       "      <td>Yes</td>\n",
       "      <td>Bank transfer (automatic)</td>\n",
       "      <td>52.55</td>\n",
       "      <td></td>\n",
       "      <td>No</td>\n",
       "    </tr>\n",
       "    <tr>\n",
       "      <th>753</th>\n",
       "      <td>Male</td>\n",
       "      <td>0</td>\n",
       "      <td>No</td>\n",
       "      <td>Yes</td>\n",
       "      <td>0</td>\n",
       "      <td>Yes</td>\n",
       "      <td>No</td>\n",
       "      <td>No</td>\n",
       "      <td>No internet service</td>\n",
       "      <td>No internet service</td>\n",
       "      <td>No internet service</td>\n",
       "      <td>No internet service</td>\n",
       "      <td>No internet service</td>\n",
       "      <td>No internet service</td>\n",
       "      <td>Two year</td>\n",
       "      <td>No</td>\n",
       "      <td>Mailed check</td>\n",
       "      <td>20.25</td>\n",
       "      <td></td>\n",
       "      <td>No</td>\n",
       "    </tr>\n",
       "    <tr>\n",
       "      <th>936</th>\n",
       "      <td>Female</td>\n",
       "      <td>0</td>\n",
       "      <td>Yes</td>\n",
       "      <td>Yes</td>\n",
       "      <td>0</td>\n",
       "      <td>Yes</td>\n",
       "      <td>No</td>\n",
       "      <td>DSL</td>\n",
       "      <td>Yes</td>\n",
       "      <td>Yes</td>\n",
       "      <td>Yes</td>\n",
       "      <td>No</td>\n",
       "      <td>Yes</td>\n",
       "      <td>Yes</td>\n",
       "      <td>Two year</td>\n",
       "      <td>No</td>\n",
       "      <td>Mailed check</td>\n",
       "      <td>80.85</td>\n",
       "      <td></td>\n",
       "      <td>No</td>\n",
       "    </tr>\n",
       "    <tr>\n",
       "      <th>1082</th>\n",
       "      <td>Male</td>\n",
       "      <td>0</td>\n",
       "      <td>Yes</td>\n",
       "      <td>Yes</td>\n",
       "      <td>0</td>\n",
       "      <td>Yes</td>\n",
       "      <td>Yes</td>\n",
       "      <td>No</td>\n",
       "      <td>No internet service</td>\n",
       "      <td>No internet service</td>\n",
       "      <td>No internet service</td>\n",
       "      <td>No internet service</td>\n",
       "      <td>No internet service</td>\n",
       "      <td>No internet service</td>\n",
       "      <td>Two year</td>\n",
       "      <td>No</td>\n",
       "      <td>Mailed check</td>\n",
       "      <td>25.75</td>\n",
       "      <td></td>\n",
       "      <td>No</td>\n",
       "    </tr>\n",
       "    <tr>\n",
       "      <th>1340</th>\n",
       "      <td>Female</td>\n",
       "      <td>0</td>\n",
       "      <td>Yes</td>\n",
       "      <td>Yes</td>\n",
       "      <td>0</td>\n",
       "      <td>No</td>\n",
       "      <td>No phone service</td>\n",
       "      <td>DSL</td>\n",
       "      <td>Yes</td>\n",
       "      <td>Yes</td>\n",
       "      <td>Yes</td>\n",
       "      <td>Yes</td>\n",
       "      <td>Yes</td>\n",
       "      <td>No</td>\n",
       "      <td>Two year</td>\n",
       "      <td>No</td>\n",
       "      <td>Credit card (automatic)</td>\n",
       "      <td>56.05</td>\n",
       "      <td></td>\n",
       "      <td>No</td>\n",
       "    </tr>\n",
       "    <tr>\n",
       "      <th>3331</th>\n",
       "      <td>Male</td>\n",
       "      <td>0</td>\n",
       "      <td>Yes</td>\n",
       "      <td>Yes</td>\n",
       "      <td>0</td>\n",
       "      <td>Yes</td>\n",
       "      <td>No</td>\n",
       "      <td>No</td>\n",
       "      <td>No internet service</td>\n",
       "      <td>No internet service</td>\n",
       "      <td>No internet service</td>\n",
       "      <td>No internet service</td>\n",
       "      <td>No internet service</td>\n",
       "      <td>No internet service</td>\n",
       "      <td>Two year</td>\n",
       "      <td>No</td>\n",
       "      <td>Mailed check</td>\n",
       "      <td>19.85</td>\n",
       "      <td></td>\n",
       "      <td>No</td>\n",
       "    </tr>\n",
       "    <tr>\n",
       "      <th>3826</th>\n",
       "      <td>Male</td>\n",
       "      <td>0</td>\n",
       "      <td>Yes</td>\n",
       "      <td>Yes</td>\n",
       "      <td>0</td>\n",
       "      <td>Yes</td>\n",
       "      <td>Yes</td>\n",
       "      <td>No</td>\n",
       "      <td>No internet service</td>\n",
       "      <td>No internet service</td>\n",
       "      <td>No internet service</td>\n",
       "      <td>No internet service</td>\n",
       "      <td>No internet service</td>\n",
       "      <td>No internet service</td>\n",
       "      <td>Two year</td>\n",
       "      <td>No</td>\n",
       "      <td>Mailed check</td>\n",
       "      <td>25.35</td>\n",
       "      <td></td>\n",
       "      <td>No</td>\n",
       "    </tr>\n",
       "    <tr>\n",
       "      <th>4380</th>\n",
       "      <td>Female</td>\n",
       "      <td>0</td>\n",
       "      <td>Yes</td>\n",
       "      <td>Yes</td>\n",
       "      <td>0</td>\n",
       "      <td>Yes</td>\n",
       "      <td>No</td>\n",
       "      <td>No</td>\n",
       "      <td>No internet service</td>\n",
       "      <td>No internet service</td>\n",
       "      <td>No internet service</td>\n",
       "      <td>No internet service</td>\n",
       "      <td>No internet service</td>\n",
       "      <td>No internet service</td>\n",
       "      <td>Two year</td>\n",
       "      <td>No</td>\n",
       "      <td>Mailed check</td>\n",
       "      <td>20.00</td>\n",
       "      <td></td>\n",
       "      <td>No</td>\n",
       "    </tr>\n",
       "    <tr>\n",
       "      <th>5218</th>\n",
       "      <td>Male</td>\n",
       "      <td>0</td>\n",
       "      <td>Yes</td>\n",
       "      <td>Yes</td>\n",
       "      <td>0</td>\n",
       "      <td>Yes</td>\n",
       "      <td>No</td>\n",
       "      <td>No</td>\n",
       "      <td>No internet service</td>\n",
       "      <td>No internet service</td>\n",
       "      <td>No internet service</td>\n",
       "      <td>No internet service</td>\n",
       "      <td>No internet service</td>\n",
       "      <td>No internet service</td>\n",
       "      <td>One year</td>\n",
       "      <td>Yes</td>\n",
       "      <td>Mailed check</td>\n",
       "      <td>19.70</td>\n",
       "      <td></td>\n",
       "      <td>No</td>\n",
       "    </tr>\n",
       "    <tr>\n",
       "      <th>6670</th>\n",
       "      <td>Female</td>\n",
       "      <td>0</td>\n",
       "      <td>Yes</td>\n",
       "      <td>Yes</td>\n",
       "      <td>0</td>\n",
       "      <td>Yes</td>\n",
       "      <td>Yes</td>\n",
       "      <td>DSL</td>\n",
       "      <td>No</td>\n",
       "      <td>Yes</td>\n",
       "      <td>Yes</td>\n",
       "      <td>Yes</td>\n",
       "      <td>Yes</td>\n",
       "      <td>No</td>\n",
       "      <td>Two year</td>\n",
       "      <td>No</td>\n",
       "      <td>Mailed check</td>\n",
       "      <td>73.35</td>\n",
       "      <td></td>\n",
       "      <td>No</td>\n",
       "    </tr>\n",
       "    <tr>\n",
       "      <th>6754</th>\n",
       "      <td>Male</td>\n",
       "      <td>0</td>\n",
       "      <td>No</td>\n",
       "      <td>Yes</td>\n",
       "      <td>0</td>\n",
       "      <td>Yes</td>\n",
       "      <td>Yes</td>\n",
       "      <td>DSL</td>\n",
       "      <td>Yes</td>\n",
       "      <td>Yes</td>\n",
       "      <td>No</td>\n",
       "      <td>Yes</td>\n",
       "      <td>No</td>\n",
       "      <td>No</td>\n",
       "      <td>Two year</td>\n",
       "      <td>Yes</td>\n",
       "      <td>Bank transfer (automatic)</td>\n",
       "      <td>61.90</td>\n",
       "      <td></td>\n",
       "      <td>No</td>\n",
       "    </tr>\n",
       "  </tbody>\n",
       "</table>\n",
       "</div>"
      ],
      "text/plain": [
       "      gender  SeniorCitizen Partner Dependents  tenure PhoneService  \\\n",
       "488   Female              0     Yes        Yes       0           No   \n",
       "753     Male              0      No        Yes       0          Yes   \n",
       "936   Female              0     Yes        Yes       0          Yes   \n",
       "1082    Male              0     Yes        Yes       0          Yes   \n",
       "1340  Female              0     Yes        Yes       0           No   \n",
       "3331    Male              0     Yes        Yes       0          Yes   \n",
       "3826    Male              0     Yes        Yes       0          Yes   \n",
       "4380  Female              0     Yes        Yes       0          Yes   \n",
       "5218    Male              0     Yes        Yes       0          Yes   \n",
       "6670  Female              0     Yes        Yes       0          Yes   \n",
       "6754    Male              0      No        Yes       0          Yes   \n",
       "\n",
       "         MultipleLines InternetService       OnlineSecurity  \\\n",
       "488   No phone service             DSL                  Yes   \n",
       "753                 No              No  No internet service   \n",
       "936                 No             DSL                  Yes   \n",
       "1082               Yes              No  No internet service   \n",
       "1340  No phone service             DSL                  Yes   \n",
       "3331                No              No  No internet service   \n",
       "3826               Yes              No  No internet service   \n",
       "4380                No              No  No internet service   \n",
       "5218                No              No  No internet service   \n",
       "6670               Yes             DSL                   No   \n",
       "6754               Yes             DSL                  Yes   \n",
       "\n",
       "             OnlineBackup     DeviceProtection          TechSupport  \\\n",
       "488                    No                  Yes                  Yes   \n",
       "753   No internet service  No internet service  No internet service   \n",
       "936                   Yes                  Yes                   No   \n",
       "1082  No internet service  No internet service  No internet service   \n",
       "1340                  Yes                  Yes                  Yes   \n",
       "3331  No internet service  No internet service  No internet service   \n",
       "3826  No internet service  No internet service  No internet service   \n",
       "4380  No internet service  No internet service  No internet service   \n",
       "5218  No internet service  No internet service  No internet service   \n",
       "6670                  Yes                  Yes                  Yes   \n",
       "6754                  Yes                   No                  Yes   \n",
       "\n",
       "              StreamingTV      StreamingMovies  Contract PaperlessBilling  \\\n",
       "488                   Yes                   No  Two year              Yes   \n",
       "753   No internet service  No internet service  Two year               No   \n",
       "936                   Yes                  Yes  Two year               No   \n",
       "1082  No internet service  No internet service  Two year               No   \n",
       "1340                  Yes                   No  Two year               No   \n",
       "3331  No internet service  No internet service  Two year               No   \n",
       "3826  No internet service  No internet service  Two year               No   \n",
       "4380  No internet service  No internet service  Two year               No   \n",
       "5218  No internet service  No internet service  One year              Yes   \n",
       "6670                  Yes                   No  Two year               No   \n",
       "6754                   No                   No  Two year              Yes   \n",
       "\n",
       "                  PaymentMethod  MonthlyCharges TotalCharges Churn  \n",
       "488   Bank transfer (automatic)           52.55                 No  \n",
       "753                Mailed check           20.25                 No  \n",
       "936                Mailed check           80.85                 No  \n",
       "1082               Mailed check           25.75                 No  \n",
       "1340    Credit card (automatic)           56.05                 No  \n",
       "3331               Mailed check           19.85                 No  \n",
       "3826               Mailed check           25.35                 No  \n",
       "4380               Mailed check           20.00                 No  \n",
       "5218               Mailed check           19.70                 No  \n",
       "6670               Mailed check           73.35                 No  \n",
       "6754  Bank transfer (automatic)           61.90                 No  "
      ]
     },
     "execution_count": 8,
     "metadata": {},
     "output_type": "execute_result"
    }
   ],
   "source": [
    "# TotalCharges column contains empty string values or nan values\n",
    "df[df.TotalCharges==\" \"]"
   ]
  },
  {
   "cell_type": "code",
   "execution_count": 9,
   "id": "15f7a94e",
   "metadata": {},
   "outputs": [
    {
     "data": {
      "text/plain": [
       "(11, 20)"
      ]
     },
     "execution_count": 9,
     "metadata": {},
     "output_type": "execute_result"
    }
   ],
   "source": [
    "# check the shape of nan values\n",
    "df[df.TotalCharges==\" \"].shape"
   ]
  },
  {
   "cell_type": "code",
   "execution_count": 10,
   "id": "9a78a5fd",
   "metadata": {},
   "outputs": [],
   "source": [
    "# removing rows with nan values\n",
    "df = df[df.TotalCharges!=\" \"]"
   ]
  },
  {
   "cell_type": "code",
   "execution_count": 11,
   "id": "81a41c1e",
   "metadata": {},
   "outputs": [
    {
     "data": {
      "text/plain": [
       "(7032, 20)"
      ]
     },
     "execution_count": 11,
     "metadata": {},
     "output_type": "execute_result"
    }
   ],
   "source": [
    "# shape after removing nan values\n",
    "df.shape"
   ]
  },
  {
   "cell_type": "code",
   "execution_count": 12,
   "id": "ba8683a4",
   "metadata": {},
   "outputs": [],
   "source": [
    "# convert string values of TotalCharges into numeric values\n",
    "df[\"TotalCharges\"] = df.TotalCharges.astype(\"float64\")"
   ]
  },
  {
   "cell_type": "code",
   "execution_count": 13,
   "id": "72a1a3f1",
   "metadata": {},
   "outputs": [
    {
     "name": "stdout",
     "output_type": "stream",
     "text": [
      "gender : ['Female' 'Male']\n",
      "SeniorCitizen : [0 1]\n",
      "Partner : ['Yes' 'No']\n",
      "Dependents : ['No' 'Yes']\n",
      "tenure : [ 1 34  2 45  8 22 10 28 62 13 16 58 49 25 69 52 71 21 12 30 47 72 17 27\n",
      "  5 46 11 70 63 43 15 60 18 66  9  3 31 50 64 56  7 42 35 48 29 65 38 68\n",
      " 32 55 37 36 41  6  4 33 67 23 57 61 14 20 53 40 59 24 44 19 54 51 26 39]\n",
      "PhoneService : ['No' 'Yes']\n",
      "MultipleLines : ['No phone service' 'No' 'Yes']\n",
      "InternetService : ['DSL' 'Fiber optic' 'No']\n",
      "OnlineSecurity : ['No' 'Yes' 'No internet service']\n",
      "OnlineBackup : ['Yes' 'No' 'No internet service']\n",
      "DeviceProtection : ['No' 'Yes' 'No internet service']\n",
      "TechSupport : ['No' 'Yes' 'No internet service']\n",
      "StreamingTV : ['No' 'Yes' 'No internet service']\n",
      "StreamingMovies : ['No' 'Yes' 'No internet service']\n",
      "Contract : ['Month-to-month' 'One year' 'Two year']\n",
      "PaperlessBilling : ['Yes' 'No']\n",
      "PaymentMethod : ['Electronic check' 'Mailed check' 'Bank transfer (automatic)'\n",
      " 'Credit card (automatic)']\n",
      "MonthlyCharges : [29.85 56.95 53.85 ... 63.1  44.2  78.7 ]\n",
      "TotalCharges : [  29.85 1889.5   108.15 ...  346.45  306.6  6844.5 ]\n",
      "Churn : ['No' 'Yes']\n"
     ]
    }
   ],
   "source": [
    "# check the unique values in each column\n",
    "for column in df :\n",
    "    print(f\"{column} : {df[column].unique()}\")"
   ]
  },
  {
   "cell_type": "markdown",
   "id": "c1514438",
   "metadata": {},
   "source": [
    "- Replace 'No phone service' values in MultipleLines with No\n",
    "- Replace 'No internet service' values in  OnlineSecurity with No\n",
    "- Replace 'No internet service' values in OnlineBackup with No\n",
    "- Replace 'No internet service' values in TechSupport with No\n",
    "- Replace 'No internet service' values in StreamingTV with No\n",
    "- Replace 'No internet service' values in StreamingMovies with No"
   ]
  },
  {
   "cell_type": "code",
   "execution_count": 14,
   "id": "d85702c7",
   "metadata": {},
   "outputs": [],
   "source": [
    "df = df.replace({\"No phone service\" : \"No\", \"No internet service\" : \"No\"})"
   ]
  },
  {
   "cell_type": "code",
   "execution_count": 15,
   "id": "e5b912bd",
   "metadata": {},
   "outputs": [
    {
     "name": "stdout",
     "output_type": "stream",
     "text": [
      "gender : ['Female' 'Male']\n",
      "SeniorCitizen : [0 1]\n",
      "Partner : ['Yes' 'No']\n",
      "Dependents : ['No' 'Yes']\n",
      "tenure : [ 1 34  2 45  8 22 10 28 62 13 16 58 49 25 69 52 71 21 12 30 47 72 17 27\n",
      "  5 46 11 70 63 43 15 60 18 66  9  3 31 50 64 56  7 42 35 48 29 65 38 68\n",
      " 32 55 37 36 41  6  4 33 67 23 57 61 14 20 53 40 59 24 44 19 54 51 26 39]\n",
      "PhoneService : ['No' 'Yes']\n",
      "MultipleLines : ['No' 'Yes']\n",
      "InternetService : ['DSL' 'Fiber optic' 'No']\n",
      "OnlineSecurity : ['No' 'Yes']\n",
      "OnlineBackup : ['Yes' 'No']\n",
      "DeviceProtection : ['No' 'Yes']\n",
      "TechSupport : ['No' 'Yes']\n",
      "StreamingTV : ['No' 'Yes']\n",
      "StreamingMovies : ['No' 'Yes']\n",
      "Contract : ['Month-to-month' 'One year' 'Two year']\n",
      "PaperlessBilling : ['Yes' 'No']\n",
      "PaymentMethod : ['Electronic check' 'Mailed check' 'Bank transfer (automatic)'\n",
      " 'Credit card (automatic)']\n",
      "MonthlyCharges : [29.85 56.95 53.85 ... 63.1  44.2  78.7 ]\n",
      "TotalCharges : [  29.85 1889.5   108.15 ...  346.45  306.6  6844.5 ]\n",
      "Churn : ['No' 'Yes']\n"
     ]
    }
   ],
   "source": [
    "# check the unique values in each column\n",
    "for column in df :\n",
    "    print(f\"{column} : {df[column].unique()}\")"
   ]
  },
  {
   "cell_type": "markdown",
   "id": "fa2e28e9",
   "metadata": {},
   "source": [
    "- convert No to 0 and Yes to 1 in [\"Partner\", \"Dependents\", \"PhoneService\", \"MultipleLines\", \"InternetService\", \"OnlineSecurity\", \"OnlineBackup\", \"DeviceProtection\", \"TechSupport\", \"StreamingTV\", \"StreamingMovies\", \"PaperlessBilling\", \"Churn\"]"
   ]
  },
  {
   "cell_type": "code",
   "execution_count": 16,
   "id": "6f966e8e",
   "metadata": {},
   "outputs": [],
   "source": [
    "cols_to_replace_with_0_1 = [\"Partner\", \"Dependents\", \"PhoneService\", \"MultipleLines\", \"InternetService\", \"OnlineSecurity\", \n",
    "                            \"OnlineBackup\", \"DeviceProtection\", \"TechSupport\", \"StreamingTV\", \"StreamingMovies\", \n",
    "                            \"PaperlessBilling\", \"Churn\"]"
   ]
  },
  {
   "cell_type": "code",
   "execution_count": 17,
   "id": "963b82f6",
   "metadata": {},
   "outputs": [],
   "source": [
    "for col in cols_to_replace_with_0_1 :\n",
    "    df.replace({\"Yes\" : 1, \"No\" : 0}, inplace=True)"
   ]
  },
  {
   "cell_type": "code",
   "execution_count": 18,
   "id": "056c0c78",
   "metadata": {},
   "outputs": [],
   "source": [
    "# replace Female with 1 and Male with 0\n",
    "df.replace({\"Female\" : 1, \"Male\" : 0}, inplace=True)"
   ]
  },
  {
   "cell_type": "code",
   "execution_count": 19,
   "id": "4af4eeb8",
   "metadata": {},
   "outputs": [
    {
     "name": "stdout",
     "output_type": "stream",
     "text": [
      "gender : [1 0]\n",
      "SeniorCitizen : [0 1]\n",
      "Partner : [1 0]\n",
      "Dependents : [0 1]\n",
      "tenure : [ 1 34  2 45  8 22 10 28 62 13 16 58 49 25 69 52 71 21 12 30 47 72 17 27\n",
      "  5 46 11 70 63 43 15 60 18 66  9  3 31 50 64 56  7 42 35 48 29 65 38 68\n",
      " 32 55 37 36 41  6  4 33 67 23 57 61 14 20 53 40 59 24 44 19 54 51 26 39]\n",
      "PhoneService : [0 1]\n",
      "MultipleLines : [0 1]\n",
      "InternetService : ['DSL' 'Fiber optic' 0]\n",
      "OnlineSecurity : [0 1]\n",
      "OnlineBackup : [1 0]\n",
      "DeviceProtection : [0 1]\n",
      "TechSupport : [0 1]\n",
      "StreamingTV : [0 1]\n",
      "StreamingMovies : [0 1]\n",
      "Contract : ['Month-to-month' 'One year' 'Two year']\n",
      "PaperlessBilling : [1 0]\n",
      "PaymentMethod : ['Electronic check' 'Mailed check' 'Bank transfer (automatic)'\n",
      " 'Credit card (automatic)']\n",
      "MonthlyCharges : [29.85 56.95 53.85 ... 63.1  44.2  78.7 ]\n",
      "TotalCharges : [  29.85 1889.5   108.15 ...  346.45  306.6  6844.5 ]\n",
      "Churn : [0 1]\n"
     ]
    }
   ],
   "source": [
    "# check the unique values in each column\n",
    "for column in df :\n",
    "    print(f\"{column} : {df[column].unique()}\")"
   ]
  },
  {
   "cell_type": "markdown",
   "id": "34de8e17",
   "metadata": {},
   "source": [
    "## Exploratory data analysis"
   ]
  },
  {
   "cell_type": "code",
   "execution_count": 20,
   "id": "19ebb2d0",
   "metadata": {},
   "outputs": [
    {
     "data": {
      "text/plain": [
       "(1869, 20)"
      ]
     },
     "execution_count": 20,
     "metadata": {},
     "output_type": "execute_result"
    }
   ],
   "source": [
    "df[df.Churn==1].shape"
   ]
  },
  {
   "cell_type": "code",
   "execution_count": 21,
   "id": "e4ecaaa7",
   "metadata": {},
   "outputs": [
    {
     "data": {
      "text/plain": [
       "(5163, 20)"
      ]
     },
     "execution_count": 21,
     "metadata": {},
     "output_type": "execute_result"
    }
   ],
   "source": [
    "df[df.Churn==0].shape"
   ]
  },
  {
   "cell_type": "code",
   "execution_count": 22,
   "id": "52421fef",
   "metadata": {},
   "outputs": [
    {
     "data": {
      "image/png": "[encoded data removed]",
      "text/plain": [
       "<Figure size 576x432 with 1 Axes>"
      ]
     },
     "metadata": {
      "needs_background": "light"
     },
     "output_type": "display_data"
    }
   ],
   "source": [
    "plt.figure(figsize=(8,6))\n",
    "df_tenure_no = df[df.Churn==0].tenure\n",
    "df_tenure_yes = df[df.Churn==1].tenure\n",
    "\n",
    "plt.hist([df_tenure_no, df_tenure_yes], color=[\"green\", \"red\"], label=[\"Churn=No\", \"Churn=Yes\"])\n",
    "plt.legend()\n",
    "plt.xlabel(\"Tenure\")\n",
    "plt.ylabel(\"Number of customers\")\n",
    "plt.title(\"Customer Churn Prediction Visualization\")\n",
    "plt.show()"
   ]
  },
  {
   "cell_type": "markdown",
   "id": "7d34d9af",
   "metadata": {},
   "source": [
    "- From this graph we can say that : \n",
    "- customers with high tenure will less probably leave the firm in comparison to the customers who leave the firm with less tenure"
   ]
  },
  {
   "cell_type": "code",
   "execution_count": 23,
   "id": "e4d2d0a8",
   "metadata": {},
   "outputs": [
    {
     "data": {
      "text/plain": [
       "array(['Month-to-month', 'One year', 'Two year'], dtype=object)"
      ]
     },
     "execution_count": 23,
     "metadata": {},
     "output_type": "execute_result"
    }
   ],
   "source": [
    "df.Contract.unique()"
   ]
  },
  {
   "cell_type": "code",
   "execution_count": 24,
   "id": "ec3672b1",
   "metadata": {},
   "outputs": [
    {
     "name": "stdout",
     "output_type": "stream",
     "text": [
      "Month-to-month    3875\n",
      "Two year          1685\n",
      "One year          1472\n",
      "Name: Contract, dtype: int64\n"
     ]
    },
    {
     "data": {
      "image/png": "[encoded data removed]",
      "text/plain": [
       "<Figure size 432x288 with 1 Axes>"
      ]
     },
     "metadata": {
      "needs_background": "light"
     },
     "output_type": "display_data"
    }
   ],
   "source": [
    "plt.figure(figsize=(6,4))\n",
    "sns.set_theme()\n",
    "sns.countplot(data=df, x=\"Contract\", palette=\"flare\")\n",
    "plt.xlabel(\"Contract Type\")\n",
    "plt.ylabel(\"Number of customers\")\n",
    "plt.title(\"Counts of different contracts\")\n",
    "print(df.Contract.value_counts())\n",
    "plt.show()"
   ]
  },
  {
   "cell_type": "code",
   "execution_count": 25,
   "id": "1773be1e",
   "metadata": {},
   "outputs": [
    {
     "data": {
      "image/png": "[encoded data removed]",
      "text/plain": [
       "<Figure size 720x360 with 2 Axes>"
      ]
     },
     "metadata": {},
     "output_type": "display_data"
    }
   ],
   "source": [
    "sns.catplot(x=\"Contract\", col=\"Churn\", data=df, kind=\"count\", palette=\"ch:s=.25,rot=-.25\", linewidth=1)\n",
    "plt.show()"
   ]
  },
  {
   "cell_type": "markdown",
   "id": "b177bb4e",
   "metadata": {},
   "source": [
    "- From this graph we can say that :\n",
    "- Customers with Two year contracts are less likely to leave"
   ]
  },
  {
   "cell_type": "markdown",
   "id": "35600031",
   "metadata": {},
   "source": [
    "## Data Preprocessing"
   ]
  },
  {
   "cell_type": "markdown",
   "id": "82f4f865",
   "metadata": {},
   "source": [
    "### Part1 : One hot encoding"
   ]
  },
  {
   "cell_type": "code",
   "execution_count": 26,
   "id": "7db4b60f",
   "metadata": {},
   "outputs": [],
   "source": [
    "df1 = df.copy()"
   ]
  },
  {
   "cell_type": "code",
   "execution_count": 27,
   "id": "55674997",
   "metadata": {},
   "outputs": [],
   "source": [
    "col_for_ohe = [\"InternetService\", \"Contract\", \"PaymentMethod\"]"
   ]
  },
  {
   "cell_type": "code",
   "execution_count": 28,
   "id": "c010aa34",
   "metadata": {},
   "outputs": [],
   "source": [
    "df1 = pd.get_dummies(df1, columns=col_for_ohe)"
   ]
  },
  {
   "cell_type": "code",
   "execution_count": 29,
   "id": "35c44946",
   "metadata": {},
   "outputs": [
    {
     "data": {
      "text/plain": [
       "(7032, 27)"
      ]
     },
     "execution_count": 29,
     "metadata": {},
     "output_type": "execute_result"
    }
   ],
   "source": [
    "df1.shape"
   ]
  },
  {
   "cell_type": "code",
   "execution_count": 30,
   "id": "e14946f6",
   "metadata": {},
   "outputs": [
    {
     "data": {
      "text/html": [
       "<div>\n",
       "<style scoped>\n",
       "    .dataframe tbody tr th:only-of-type {\n",
       "        vertical-align: middle;\n",
       "    }\n",
       "\n",
       "    .dataframe tbody tr th {\n",
       "        vertical-align: top;\n",
       "    }\n",
       "\n",
       "    .dataframe thead th {\n",
       "        text-align: right;\n",
       "    }\n",
       "</style>\n",
       "<table border=\"1\" class=\"dataframe\">\n",
       "  <thead>\n",
       "    <tr style=\"text-align: right;\">\n",
       "      <th></th>\n",
       "      <th>gender</th>\n",
       "      <th>SeniorCitizen</th>\n",
       "      <th>Partner</th>\n",
       "      <th>Dependents</th>\n",
       "      <th>tenure</th>\n",
       "      <th>PhoneService</th>\n",
       "      <th>MultipleLines</th>\n",
       "      <th>OnlineSecurity</th>\n",
       "      <th>OnlineBackup</th>\n",
       "      <th>DeviceProtection</th>\n",
       "      <th>...</th>\n",
       "      <th>InternetService_0</th>\n",
       "      <th>InternetService_DSL</th>\n",
       "      <th>InternetService_Fiber optic</th>\n",
       "      <th>Contract_Month-to-month</th>\n",
       "      <th>Contract_One year</th>\n",
       "      <th>Contract_Two year</th>\n",
       "      <th>PaymentMethod_Bank transfer (automatic)</th>\n",
       "      <th>PaymentMethod_Credit card (automatic)</th>\n",
       "      <th>PaymentMethod_Electronic check</th>\n",
       "      <th>PaymentMethod_Mailed check</th>\n",
       "    </tr>\n",
       "  </thead>\n",
       "  <tbody>\n",
       "    <tr>\n",
       "      <th>4309</th>\n",
       "      <td>1</td>\n",
       "      <td>0</td>\n",
       "      <td>0</td>\n",
       "      <td>0</td>\n",
       "      <td>22</td>\n",
       "      <td>0</td>\n",
       "      <td>0</td>\n",
       "      <td>0</td>\n",
       "      <td>0</td>\n",
       "      <td>1</td>\n",
       "      <td>...</td>\n",
       "      <td>0</td>\n",
       "      <td>1</td>\n",
       "      <td>0</td>\n",
       "      <td>1</td>\n",
       "      <td>0</td>\n",
       "      <td>0</td>\n",
       "      <td>0</td>\n",
       "      <td>0</td>\n",
       "      <td>1</td>\n",
       "      <td>0</td>\n",
       "    </tr>\n",
       "    <tr>\n",
       "      <th>6482</th>\n",
       "      <td>0</td>\n",
       "      <td>0</td>\n",
       "      <td>0</td>\n",
       "      <td>0</td>\n",
       "      <td>1</td>\n",
       "      <td>1</td>\n",
       "      <td>1</td>\n",
       "      <td>0</td>\n",
       "      <td>0</td>\n",
       "      <td>1</td>\n",
       "      <td>...</td>\n",
       "      <td>0</td>\n",
       "      <td>0</td>\n",
       "      <td>1</td>\n",
       "      <td>1</td>\n",
       "      <td>0</td>\n",
       "      <td>0</td>\n",
       "      <td>0</td>\n",
       "      <td>0</td>\n",
       "      <td>1</td>\n",
       "      <td>0</td>\n",
       "    </tr>\n",
       "    <tr>\n",
       "      <th>741</th>\n",
       "      <td>1</td>\n",
       "      <td>0</td>\n",
       "      <td>0</td>\n",
       "      <td>0</td>\n",
       "      <td>2</td>\n",
       "      <td>1</td>\n",
       "      <td>0</td>\n",
       "      <td>1</td>\n",
       "      <td>0</td>\n",
       "      <td>1</td>\n",
       "      <td>...</td>\n",
       "      <td>0</td>\n",
       "      <td>0</td>\n",
       "      <td>1</td>\n",
       "      <td>1</td>\n",
       "      <td>0</td>\n",
       "      <td>0</td>\n",
       "      <td>0</td>\n",
       "      <td>0</td>\n",
       "      <td>1</td>\n",
       "      <td>0</td>\n",
       "    </tr>\n",
       "  </tbody>\n",
       "</table>\n",
       "<p>3 rows × 27 columns</p>\n",
       "</div>"
      ],
      "text/plain": [
       "      gender  SeniorCitizen  Partner  Dependents  tenure  PhoneService  \\\n",
       "4309       1              0        0           0      22             0   \n",
       "6482       0              0        0           0       1             1   \n",
       "741        1              0        0           0       2             1   \n",
       "\n",
       "      MultipleLines  OnlineSecurity  OnlineBackup  DeviceProtection  ...  \\\n",
       "4309              0               0             0                 1  ...   \n",
       "6482              1               0             0                 1  ...   \n",
       "741               0               1             0                 1  ...   \n",
       "\n",
       "      InternetService_0  InternetService_DSL  InternetService_Fiber optic  \\\n",
       "4309                  0                    1                            0   \n",
       "6482                  0                    0                            1   \n",
       "741                   0                    0                            1   \n",
       "\n",
       "      Contract_Month-to-month  Contract_One year  Contract_Two year  \\\n",
       "4309                        1                  0                  0   \n",
       "6482                        1                  0                  0   \n",
       "741                         1                  0                  0   \n",
       "\n",
       "      PaymentMethod_Bank transfer (automatic)  \\\n",
       "4309                                        0   \n",
       "6482                                        0   \n",
       "741                                         0   \n",
       "\n",
       "      PaymentMethod_Credit card (automatic)  PaymentMethod_Electronic check  \\\n",
       "4309                                      0                               1   \n",
       "6482                                      0                               1   \n",
       "741                                       0                               1   \n",
       "\n",
       "      PaymentMethod_Mailed check  \n",
       "4309                           0  \n",
       "6482                           0  \n",
       "741                            0  \n",
       "\n",
       "[3 rows x 27 columns]"
      ]
     },
     "execution_count": 30,
     "metadata": {},
     "output_type": "execute_result"
    }
   ],
   "source": [
    "df1.sample(3)"
   ]
  },
  {
   "cell_type": "markdown",
   "id": "6f522f9e",
   "metadata": {},
   "source": [
    "### Part2 : Splicing of data"
   ]
  },
  {
   "cell_type": "code",
   "execution_count": 31,
   "id": "87b020c2",
   "metadata": {},
   "outputs": [],
   "source": [
    "X = df1.drop(\"Churn\", axis=1)\n",
    "y = df1.Churn"
   ]
  },
  {
   "cell_type": "code",
   "execution_count": 32,
   "id": "1cc29528",
   "metadata": {},
   "outputs": [],
   "source": [
    "X_train, X_test, y_train, y_test = train_test_split(X,y, test_size=0.2, random_state=42)"
   ]
  },
  {
   "cell_type": "code",
   "execution_count": 33,
   "id": "d09b11a5",
   "metadata": {},
   "outputs": [
    {
     "data": {
      "text/plain": [
       "(5625, 26)"
      ]
     },
     "execution_count": 33,
     "metadata": {},
     "output_type": "execute_result"
    }
   ],
   "source": [
    "X_train.shape"
   ]
  },
  {
   "cell_type": "code",
   "execution_count": 34,
   "id": "18df2d2f",
   "metadata": {},
   "outputs": [
    {
     "data": {
      "text/plain": [
       "(1407, 26)"
      ]
     },
     "execution_count": 34,
     "metadata": {},
     "output_type": "execute_result"
    }
   ],
   "source": [
    "X_test.shape"
   ]
  },
  {
   "cell_type": "code",
   "execution_count": 35,
   "id": "d5efe3b5",
   "metadata": {},
   "outputs": [
    {
     "data": {
      "text/plain": [
       "(5625,)"
      ]
     },
     "execution_count": 35,
     "metadata": {},
     "output_type": "execute_result"
    }
   ],
   "source": [
    "y_train.shape"
   ]
  },
  {
   "cell_type": "code",
   "execution_count": 36,
   "id": "3deada45",
   "metadata": {},
   "outputs": [
    {
     "data": {
      "text/plain": [
       "(1407,)"
      ]
     },
     "execution_count": 36,
     "metadata": {},
     "output_type": "execute_result"
    }
   ],
   "source": [
    "y_test.shape"
   ]
  },
  {
   "cell_type": "markdown",
   "id": "8012a99b",
   "metadata": {},
   "source": [
    "### Part3 : Scaling of data"
   ]
  },
  {
   "cell_type": "code",
   "execution_count": 37,
   "id": "1baf6013",
   "metadata": {},
   "outputs": [],
   "source": [
    "data_to_be_scaled = [\"tenure\", \"MonthlyCharges\", \"TotalCharges\"]"
   ]
  },
  {
   "cell_type": "code",
   "execution_count": 38,
   "id": "dffe4839",
   "metadata": {},
   "outputs": [],
   "source": [
    "scaler = MinMaxScaler()\n",
    "scaler.fit(X_train[data_to_be_scaled])\n",
    "X_train[data_to_be_scaled] = scaler.transform(X_train[data_to_be_scaled])\n",
    "X_test[data_to_be_scaled] = scaler.transform(X_test[data_to_be_scaled])"
   ]
  },
  {
   "cell_type": "code",
   "execution_count": 39,
   "id": "5a49435d",
   "metadata": {},
   "outputs": [
    {
     "data": {
      "text/html": [
       "<div>\n",
       "<style scoped>\n",
       "    .dataframe tbody tr th:only-of-type {\n",
       "        vertical-align: middle;\n",
       "    }\n",
       "\n",
       "    .dataframe tbody tr th {\n",
       "        vertical-align: top;\n",
       "    }\n",
       "\n",
       "    .dataframe thead th {\n",
       "        text-align: right;\n",
       "    }\n",
       "</style>\n",
       "<table border=\"1\" class=\"dataframe\">\n",
       "  <thead>\n",
       "    <tr style=\"text-align: right;\">\n",
       "      <th></th>\n",
       "      <th>gender</th>\n",
       "      <th>SeniorCitizen</th>\n",
       "      <th>Partner</th>\n",
       "      <th>Dependents</th>\n",
       "      <th>tenure</th>\n",
       "      <th>PhoneService</th>\n",
       "      <th>MultipleLines</th>\n",
       "      <th>OnlineSecurity</th>\n",
       "      <th>OnlineBackup</th>\n",
       "      <th>DeviceProtection</th>\n",
       "      <th>...</th>\n",
       "      <th>InternetService_0</th>\n",
       "      <th>InternetService_DSL</th>\n",
       "      <th>InternetService_Fiber optic</th>\n",
       "      <th>Contract_Month-to-month</th>\n",
       "      <th>Contract_One year</th>\n",
       "      <th>Contract_Two year</th>\n",
       "      <th>PaymentMethod_Bank transfer (automatic)</th>\n",
       "      <th>PaymentMethod_Credit card (automatic)</th>\n",
       "      <th>PaymentMethod_Electronic check</th>\n",
       "      <th>PaymentMethod_Mailed check</th>\n",
       "    </tr>\n",
       "  </thead>\n",
       "  <tbody>\n",
       "    <tr>\n",
       "      <th>730</th>\n",
       "      <td>1</td>\n",
       "      <td>0</td>\n",
       "      <td>0</td>\n",
       "      <td>0</td>\n",
       "      <td>0.619718</td>\n",
       "      <td>1</td>\n",
       "      <td>1</td>\n",
       "      <td>0</td>\n",
       "      <td>0</td>\n",
       "      <td>1</td>\n",
       "      <td>...</td>\n",
       "      <td>0</td>\n",
       "      <td>0</td>\n",
       "      <td>1</td>\n",
       "      <td>1</td>\n",
       "      <td>0</td>\n",
       "      <td>0</td>\n",
       "      <td>0</td>\n",
       "      <td>0</td>\n",
       "      <td>1</td>\n",
       "      <td>0</td>\n",
       "    </tr>\n",
       "    <tr>\n",
       "      <th>4272</th>\n",
       "      <td>0</td>\n",
       "      <td>0</td>\n",
       "      <td>1</td>\n",
       "      <td>0</td>\n",
       "      <td>0.774648</td>\n",
       "      <td>1</td>\n",
       "      <td>1</td>\n",
       "      <td>0</td>\n",
       "      <td>0</td>\n",
       "      <td>0</td>\n",
       "      <td>...</td>\n",
       "      <td>1</td>\n",
       "      <td>0</td>\n",
       "      <td>0</td>\n",
       "      <td>0</td>\n",
       "      <td>0</td>\n",
       "      <td>1</td>\n",
       "      <td>0</td>\n",
       "      <td>1</td>\n",
       "      <td>0</td>\n",
       "      <td>0</td>\n",
       "    </tr>\n",
       "    <tr>\n",
       "      <th>3976</th>\n",
       "      <td>1</td>\n",
       "      <td>0</td>\n",
       "      <td>0</td>\n",
       "      <td>0</td>\n",
       "      <td>0.042254</td>\n",
       "      <td>0</td>\n",
       "      <td>0</td>\n",
       "      <td>0</td>\n",
       "      <td>0</td>\n",
       "      <td>0</td>\n",
       "      <td>...</td>\n",
       "      <td>0</td>\n",
       "      <td>1</td>\n",
       "      <td>0</td>\n",
       "      <td>1</td>\n",
       "      <td>0</td>\n",
       "      <td>0</td>\n",
       "      <td>0</td>\n",
       "      <td>0</td>\n",
       "      <td>1</td>\n",
       "      <td>0</td>\n",
       "    </tr>\n",
       "  </tbody>\n",
       "</table>\n",
       "<p>3 rows × 26 columns</p>\n",
       "</div>"
      ],
      "text/plain": [
       "      gender  SeniorCitizen  Partner  Dependents    tenure  PhoneService  \\\n",
       "730        1              0        0           0  0.619718             1   \n",
       "4272       0              0        1           0  0.774648             1   \n",
       "3976       1              0        0           0  0.042254             0   \n",
       "\n",
       "      MultipleLines  OnlineSecurity  OnlineBackup  DeviceProtection  ...  \\\n",
       "730               1               0             0                 1  ...   \n",
       "4272              1               0             0                 0  ...   \n",
       "3976              0               0             0                 0  ...   \n",
       "\n",
       "      InternetService_0  InternetService_DSL  InternetService_Fiber optic  \\\n",
       "730                   0                    0                            1   \n",
       "4272                  1                    0                            0   \n",
       "3976                  0                    1                            0   \n",
       "\n",
       "      Contract_Month-to-month  Contract_One year  Contract_Two year  \\\n",
       "730                         1                  0                  0   \n",
       "4272                        0                  0                  1   \n",
       "3976                        1                  0                  0   \n",
       "\n",
       "      PaymentMethod_Bank transfer (automatic)  \\\n",
       "730                                         0   \n",
       "4272                                        0   \n",
       "3976                                        0   \n",
       "\n",
       "      PaymentMethod_Credit card (automatic)  PaymentMethod_Electronic check  \\\n",
       "730                                       0                               1   \n",
       "4272                                      1                               0   \n",
       "3976                                      0                               1   \n",
       "\n",
       "      PaymentMethod_Mailed check  \n",
       "730                            0  \n",
       "4272                           0  \n",
       "3976                           0  \n",
       "\n",
       "[3 rows x 26 columns]"
      ]
     },
     "execution_count": 39,
     "metadata": {},
     "output_type": "execute_result"
    }
   ],
   "source": [
    "X_train.sample(3)"
   ]
  },
  {
   "cell_type": "code",
   "execution_count": 40,
   "id": "5385a540",
   "metadata": {},
   "outputs": [
    {
     "data": {
      "text/plain": [
       "(5625, 26)"
      ]
     },
     "execution_count": 40,
     "metadata": {},
     "output_type": "execute_result"
    }
   ],
   "source": [
    "X_train.shape"
   ]
  },
  {
   "cell_type": "markdown",
   "id": "da65c301",
   "metadata": {},
   "source": [
    "## ANN Model Creation"
   ]
  },
  {
   "cell_type": "code",
   "execution_count": 44,
   "id": "0e594b7d",
   "metadata": {},
   "outputs": [
    {
     "name": "stdout",
     "output_type": "stream",
     "text": [
      "Epoch 1/100\n",
      "176/176 [==============================] - 2s 7ms/step - loss: 0.4961 - accuracy: 0.7442\n",
      "Epoch 2/100\n",
      "176/176 [==============================] - 1s 7ms/step - loss: 0.4406 - accuracy: 0.7892\n",
      "Epoch 3/100\n",
      "176/176 [==============================] - 1s 6ms/step - loss: 0.4284 - accuracy: 0.7980\n",
      "Epoch 4/100\n",
      "176/176 [==============================] - 1s 6ms/step - loss: 0.4228 - accuracy: 0.8005\n",
      "Epoch 5/100\n",
      "176/176 [==============================] - 1s 6ms/step - loss: 0.4193 - accuracy: 0.8000\n",
      "Epoch 6/100\n",
      "176/176 [==============================] - 1s 6ms/step - loss: 0.4169 - accuracy: 0.8007\n",
      "Epoch 7/100\n",
      "176/176 [==============================] - 1s 6ms/step - loss: 0.4154 - accuracy: 0.8032\n",
      "Epoch 8/100\n",
      "176/176 [==============================] - 1s 6ms/step - loss: 0.4127 - accuracy: 0.8050\n",
      "Epoch 9/100\n",
      "176/176 [==============================] - 1s 6ms/step - loss: 0.4113 - accuracy: 0.8068\n",
      "Epoch 10/100\n",
      "176/176 [==============================] - 1s 6ms/step - loss: 0.4099 - accuracy: 0.8073\n",
      "Epoch 11/100\n",
      "176/176 [==============================] - 1s 6ms/step - loss: 0.4088 - accuracy: 0.8037\n",
      "Epoch 12/100\n",
      "176/176 [==============================] - 1s 6ms/step - loss: 0.4071 - accuracy: 0.8064\n",
      "Epoch 13/100\n",
      "176/176 [==============================] - 1s 6ms/step - loss: 0.4060 - accuracy: 0.8096\n",
      "Epoch 14/100\n",
      "176/176 [==============================] - 1s 6ms/step - loss: 0.4050 - accuracy: 0.8084\n",
      "Epoch 15/100\n",
      "176/176 [==============================] - 1s 6ms/step - loss: 0.4039 - accuracy: 0.8087\n",
      "Epoch 16/100\n",
      "176/176 [==============================] - 1s 6ms/step - loss: 0.4030 - accuracy: 0.8094\n",
      "Epoch 17/100\n",
      "176/176 [==============================] - 1s 6ms/step - loss: 0.4011 - accuracy: 0.8123\n",
      "Epoch 18/100\n",
      "176/176 [==============================] - 1s 6ms/step - loss: 0.4002 - accuracy: 0.8126\n",
      "Epoch 19/100\n",
      "176/176 [==============================] - 1s 6ms/step - loss: 0.3990 - accuracy: 0.8130\n",
      "Epoch 20/100\n",
      "176/176 [==============================] - 1s 6ms/step - loss: 0.3985 - accuracy: 0.8140\n",
      "Epoch 21/100\n",
      "176/176 [==============================] - 1s 6ms/step - loss: 0.3975 - accuracy: 0.8126\n",
      "Epoch 22/100\n",
      "176/176 [==============================] - 1s 6ms/step - loss: 0.3966 - accuracy: 0.8135\n",
      "Epoch 23/100\n",
      "176/176 [==============================] - 1s 6ms/step - loss: 0.3955 - accuracy: 0.8162\n",
      "Epoch 24/100\n",
      "176/176 [==============================] - 1s 6ms/step - loss: 0.3939 - accuracy: 0.8139\n",
      "Epoch 25/100\n",
      "176/176 [==============================] - 1s 6ms/step - loss: 0.3926 - accuracy: 0.8151\n",
      "Epoch 26/100\n",
      "176/176 [==============================] - 1s 6ms/step - loss: 0.3926 - accuracy: 0.8128\n",
      "Epoch 27/100\n",
      "176/176 [==============================] - 1s 6ms/step - loss: 0.3915 - accuracy: 0.8155\n",
      "Epoch 28/100\n",
      "176/176 [==============================] - 1s 6ms/step - loss: 0.3907 - accuracy: 0.8174\n",
      "Epoch 29/100\n",
      "176/176 [==============================] - 1s 6ms/step - loss: 0.3911 - accuracy: 0.8178\n",
      "Epoch 30/100\n",
      "176/176 [==============================] - 1s 6ms/step - loss: 0.3895 - accuracy: 0.8156: 0s - loss: 0.390\n",
      "Epoch 31/100\n",
      "176/176 [==============================] - 1s 6ms/step - loss: 0.3897 - accuracy: 0.8155\n",
      "Epoch 32/100\n",
      "176/176 [==============================] - 1s 6ms/step - loss: 0.3874 - accuracy: 0.8155\n",
      "Epoch 33/100\n",
      "176/176 [==============================] - 1s 6ms/step - loss: 0.3872 - accuracy: 0.8153\n",
      "Epoch 34/100\n",
      "176/176 [==============================] - 1s 6ms/step - loss: 0.3860 - accuracy: 0.8188\n",
      "Epoch 35/100\n",
      "176/176 [==============================] - 1s 6ms/step - loss: 0.3864 - accuracy: 0.8151\n",
      "Epoch 36/100\n",
      "176/176 [==============================] - 1s 6ms/step - loss: 0.3845 - accuracy: 0.8192\n",
      "Epoch 37/100\n",
      "176/176 [==============================] - 1s 6ms/step - loss: 0.3847 - accuracy: 0.8171\n",
      "Epoch 38/100\n",
      "176/176 [==============================] - 1s 6ms/step - loss: 0.3838 - accuracy: 0.8181\n",
      "Epoch 39/100\n",
      "176/176 [==============================] - 1s 6ms/step - loss: 0.3826 - accuracy: 0.8206\n",
      "Epoch 40/100\n",
      "176/176 [==============================] - 1s 6ms/step - loss: 0.3822 - accuracy: 0.8194\n",
      "Epoch 41/100\n",
      "176/176 [==============================] - 1s 6ms/step - loss: 0.3819 - accuracy: 0.8201\n",
      "Epoch 42/100\n",
      "176/176 [==============================] - 1s 6ms/step - loss: 0.3809 - accuracy: 0.8204\n",
      "Epoch 43/100\n",
      "176/176 [==============================] - 1s 6ms/step - loss: 0.3802 - accuracy: 0.8201\n",
      "Epoch 44/100\n",
      "176/176 [==============================] - 1s 6ms/step - loss: 0.3807 - accuracy: 0.8206\n",
      "Epoch 45/100\n",
      "176/176 [==============================] - 1s 6ms/step - loss: 0.3800 - accuracy: 0.8233\n",
      "Epoch 46/100\n",
      "176/176 [==============================] - 1s 6ms/step - loss: 0.3796 - accuracy: 0.8197\n",
      "Epoch 47/100\n",
      "176/176 [==============================] - 1s 6ms/step - loss: 0.3798 - accuracy: 0.8226\n",
      "Epoch 48/100\n",
      "176/176 [==============================] - 1s 6ms/step - loss: 0.3777 - accuracy: 0.8224\n",
      "Epoch 49/100\n",
      "176/176 [==============================] - 1s 6ms/step - loss: 0.3790 - accuracy: 0.8204\n",
      "Epoch 50/100\n",
      "176/176 [==============================] - 1s 6ms/step - loss: 0.3776 - accuracy: 0.8224\n",
      "Epoch 51/100\n",
      "176/176 [==============================] - 1s 6ms/step - loss: 0.3762 - accuracy: 0.8247\n",
      "Epoch 52/100\n",
      "176/176 [==============================] - 1s 6ms/step - loss: 0.3770 - accuracy: 0.8244\n",
      "Epoch 53/100\n",
      "176/176 [==============================] - 1s 7ms/step - loss: 0.3761 - accuracy: 0.8261\n",
      "Epoch 54/100\n",
      "176/176 [==============================] - 1s 7ms/step - loss: 0.3759 - accuracy: 0.8231\n",
      "Epoch 55/100\n",
      "176/176 [==============================] - 1s 7ms/step - loss: 0.3759 - accuracy: 0.8236\n",
      "Epoch 56/100\n",
      "176/176 [==============================] - 1s 7ms/step - loss: 0.3746 - accuracy: 0.8240\n",
      "Epoch 57/100\n",
      "176/176 [==============================] - 1s 7ms/step - loss: 0.3754 - accuracy: 0.8244\n",
      "Epoch 58/100\n",
      "176/176 [==============================] - 1s 7ms/step - loss: 0.3746 - accuracy: 0.8245\n",
      "Epoch 59/100\n",
      "176/176 [==============================] - 1s 7ms/step - loss: 0.3730 - accuracy: 0.8235\n",
      "Epoch 60/100\n",
      "176/176 [==============================] - 1s 7ms/step - loss: 0.3736 - accuracy: 0.8249\n",
      "Epoch 61/100\n",
      "176/176 [==============================] - 1s 8ms/step - loss: 0.3735 - accuracy: 0.8251\n",
      "Epoch 62/100\n",
      "176/176 [==============================] - 1s 7ms/step - loss: 0.3723 - accuracy: 0.8274\n",
      "Epoch 63/100\n",
      "176/176 [==============================] - 1s 6ms/step - loss: 0.3727 - accuracy: 0.8252\n",
      "Epoch 64/100\n",
      "176/176 [==============================] - 1s 6ms/step - loss: 0.3716 - accuracy: 0.8284\n",
      "Epoch 65/100\n",
      "176/176 [==============================] - 1s 7ms/step - loss: 0.3714 - accuracy: 0.8279\n",
      "Epoch 66/100\n",
      "176/176 [==============================] - 1s 7ms/step - loss: 0.3704 - accuracy: 0.8249\n",
      "Epoch 67/100\n",
      "176/176 [==============================] - 1s 7ms/step - loss: 0.3710 - accuracy: 0.8276\n",
      "Epoch 68/100\n",
      "176/176 [==============================] - 1s 6ms/step - loss: 0.3704 - accuracy: 0.8276\n",
      "Epoch 69/100\n",
      "176/176 [==============================] - 1s 6ms/step - loss: 0.3711 - accuracy: 0.8272\n",
      "Epoch 70/100\n",
      "176/176 [==============================] - 1s 7ms/step - loss: 0.3702 - accuracy: 0.8268\n",
      "Epoch 71/100\n",
      "176/176 [==============================] - 1s 6ms/step - loss: 0.3695 - accuracy: 0.8265\n",
      "Epoch 72/100\n",
      "176/176 [==============================] - 1s 6ms/step - loss: 0.3696 - accuracy: 0.8272\n",
      "Epoch 73/100\n",
      "176/176 [==============================] - 1s 6ms/step - loss: 0.3686 - accuracy: 0.8306\n",
      "Epoch 74/100\n",
      "176/176 [==============================] - 1s 7ms/step - loss: 0.3680 - accuracy: 0.8295\n",
      "Epoch 75/100\n",
      "176/176 [==============================] - 1s 7ms/step - loss: 0.3685 - accuracy: 0.8270\n",
      "Epoch 76/100\n",
      "176/176 [==============================] - 1s 7ms/step - loss: 0.3678 - accuracy: 0.8284\n",
      "Epoch 77/100\n",
      "176/176 [==============================] - 1s 7ms/step - loss: 0.3677 - accuracy: 0.8284\n",
      "Epoch 78/100\n",
      "176/176 [==============================] - 1s 7ms/step - loss: 0.3673 - accuracy: 0.8279\n",
      "Epoch 79/100\n",
      "176/176 [==============================] - 1s 7ms/step - loss: 0.3665 - accuracy: 0.8311\n",
      "Epoch 80/100\n",
      "176/176 [==============================] - 1s 7ms/step - loss: 0.3669 - accuracy: 0.8281\n",
      "Epoch 81/100\n"
     ]
    },
    {
     "name": "stdout",
     "output_type": "stream",
     "text": [
      "176/176 [==============================] - 1s 7ms/step - loss: 0.3671 - accuracy: 0.8254\n",
      "Epoch 82/100\n",
      "176/176 [==============================] - 1s 6ms/step - loss: 0.3661 - accuracy: 0.8290\n",
      "Epoch 83/100\n",
      "176/176 [==============================] - 1s 6ms/step - loss: 0.3650 - accuracy: 0.8293\n",
      "Epoch 84/100\n",
      "176/176 [==============================] - 1s 6ms/step - loss: 0.3651 - accuracy: 0.8293\n",
      "Epoch 85/100\n",
      "176/176 [==============================] - 1s 7ms/step - loss: 0.3650 - accuracy: 0.8279\n",
      "Epoch 86/100\n",
      "176/176 [==============================] - 1s 7ms/step - loss: 0.3648 - accuracy: 0.8286\n",
      "Epoch 87/100\n",
      "176/176 [==============================] - 1s 7ms/step - loss: 0.3639 - accuracy: 0.8299\n",
      "Epoch 88/100\n",
      "176/176 [==============================] - 1s 7ms/step - loss: 0.3639 - accuracy: 0.8306\n",
      "Epoch 89/100\n",
      "176/176 [==============================] - 1s 6ms/step - loss: 0.3625 - accuracy: 0.8325\n",
      "Epoch 90/100\n",
      "176/176 [==============================] - 1s 6ms/step - loss: 0.3641 - accuracy: 0.8290\n",
      "Epoch 91/100\n",
      "176/176 [==============================] - 1s 6ms/step - loss: 0.3631 - accuracy: 0.8327\n",
      "Epoch 92/100\n",
      "176/176 [==============================] - 1s 7ms/step - loss: 0.3621 - accuracy: 0.8304\n",
      "Epoch 93/100\n",
      "176/176 [==============================] - 1s 6ms/step - loss: 0.3622 - accuracy: 0.8292\n",
      "Epoch 94/100\n",
      "176/176 [==============================] - 1s 7ms/step - loss: 0.3612 - accuracy: 0.8313\n",
      "Epoch 95/100\n",
      "176/176 [==============================] - 1s 6ms/step - loss: 0.3612 - accuracy: 0.8327\n",
      "Epoch 96/100\n",
      "176/176 [==============================] - 1s 6ms/step - loss: 0.3606 - accuracy: 0.8316\n",
      "Epoch 97/100\n",
      "176/176 [==============================] - 1s 6ms/step - loss: 0.3605 - accuracy: 0.8302\n",
      "Epoch 98/100\n",
      "176/176 [==============================] - 1s 6ms/step - loss: 0.3602 - accuracy: 0.8313\n",
      "Epoch 99/100\n",
      "176/176 [==============================] - 1s 6ms/step - loss: 0.3604 - accuracy: 0.8343\n",
      "Epoch 100/100\n",
      "176/176 [==============================] - 1s 6ms/step - loss: 0.3593 - accuracy: 0.8309\n"
     ]
    },
    {
     "data": {
      "text/plain": [
       "<keras.callbacks.History at 0x23329b63fd0>"
      ]
     },
     "execution_count": 44,
     "metadata": {},
     "output_type": "execute_result"
    }
   ],
   "source": [
    "ann_model = keras.Sequential([\n",
    "    keras.layers.Dense(20, input_shape=(26,), activation=\"relu\"),\n",
    "    keras.layers.Dense(10, activation=\"relu\"),\n",
    "    keras.layers.Dense(1,  activation=\"sigmoid\")\n",
    "])\n",
    "\n",
    "ann_model.compile(loss=\"binary_crossentropy\", optimizer=\"adam\", metrics=[\"accuracy\"])\n",
    "\n",
    "ann_model.fit(X_train, y_train, epochs=100)"
   ]
  },
  {
   "cell_type": "code",
   "execution_count": 45,
   "id": "d159525a",
   "metadata": {},
   "outputs": [
    {
     "name": "stdout",
     "output_type": "stream",
     "text": [
      "44/44 [==============================] - 0s 5ms/step - loss: 0.4878 - accuracy: 0.7875\n"
     ]
    },
    {
     "data": {
      "text/plain": [
       "[0.48782289028167725, 0.7874911427497864]"
      ]
     },
     "execution_count": 45,
     "metadata": {},
     "output_type": "execute_result"
    }
   ],
   "source": [
    "ann_model.evaluate(X_test, y_test)"
   ]
  },
  {
   "cell_type": "code",
   "execution_count": 46,
   "id": "47e4745e",
   "metadata": {},
   "outputs": [
    {
     "data": {
      "text/plain": [
       "array([[0.00405265],\n",
       "       [0.0785694 ],\n",
       "       [0.6413849 ],\n",
       "       [0.01796817],\n",
       "       [0.2668059 ]], dtype=float32)"
      ]
     },
     "execution_count": 46,
     "metadata": {},
     "output_type": "execute_result"
    }
   ],
   "source": [
    "yp = ann_model.predict(X_test)\n",
    "yp[:5]"
   ]
  },
  {
   "cell_type": "code",
   "execution_count": 47,
   "id": "95f8b792",
   "metadata": {},
   "outputs": [
    {
     "data": {
      "text/plain": [
       "2481    0\n",
       "6784    0\n",
       "6125    1\n",
       "3052    0\n",
       "4099    0\n",
       "Name: Churn, dtype: int64"
      ]
     },
     "execution_count": 47,
     "metadata": {},
     "output_type": "execute_result"
    }
   ],
   "source": [
    "y_test[:5]"
   ]
  },
  {
   "cell_type": "code",
   "execution_count": 48,
   "id": "6ca1f954",
   "metadata": {},
   "outputs": [],
   "source": [
    "y_pred = []\n",
    "for ele in yp :\n",
    "    if (ele>=0.5) :\n",
    "        y_pred.append(1)\n",
    "    else :\n",
    "        y_pred.append(0)"
   ]
  },
  {
   "cell_type": "code",
   "execution_count": 49,
   "id": "c91c0d5c",
   "metadata": {},
   "outputs": [
    {
     "data": {
      "text/plain": [
       "[0, 0, 1, 0, 0]"
      ]
     },
     "execution_count": 49,
     "metadata": {},
     "output_type": "execute_result"
    }
   ],
   "source": [
    "y_pred[:5]"
   ]
  },
  {
   "cell_type": "markdown",
   "id": "7e01e81a",
   "metadata": {},
   "source": [
    "## Confusion matrix and Classification report"
   ]
  },
  {
   "cell_type": "code",
   "execution_count": 50,
   "id": "2bdf2e42",
   "metadata": {},
   "outputs": [
    {
     "name": "stdout",
     "output_type": "stream",
     "text": [
      "              precision    recall  f1-score   support\n",
      "\n",
      "           0       0.82      0.91      0.86      1033\n",
      "           1       0.65      0.44      0.52       374\n",
      "\n",
      "    accuracy                           0.79      1407\n",
      "   macro avg       0.73      0.68      0.69      1407\n",
      "weighted avg       0.77      0.79      0.77      1407\n",
      "\n"
     ]
    }
   ],
   "source": [
    "print(classification_report(y_test, y_pred))"
   ]
  },
  {
   "cell_type": "code",
   "execution_count": 51,
   "id": "9afc6ee8",
   "metadata": {},
   "outputs": [
    {
     "data": {
      "image/png": "[encoded data removed]",
      "text/plain": [
       "<Figure size 504x360 with 2 Axes>"
      ]
     },
     "metadata": {},
     "output_type": "display_data"
    }
   ],
   "source": [
    "cm = tf.math.confusion_matrix(labels=y_test, predictions=y_pred)\n",
    "\n",
    "plt.figure(figsize=(7,5))\n",
    "sns.heatmap(confusion_matrix(y_test, y_pred), annot=True, fmt=\"d\")\n",
    "plt.xlabel(\"Predictions\")\n",
    "plt.ylabel(\"Truth\")\n",
    "plt.show()"
   ]
  },
  {
   "cell_type": "markdown",
   "id": "86c7981b",
   "metadata": {},
   "source": [
    "## Save model "
   ]
  },
  {
   "cell_type": "code",
   "execution_count": 52,
   "id": "6da38fc2",
   "metadata": {},
   "outputs": [
    {
     "name": "stdout",
     "output_type": "stream",
     "text": [
      "INFO:tensorflow:Assets written to: ann_model_for_churn_prediction\\assets\n"
     ]
    }
   ],
   "source": [
    "ann_model.save(\"ann_model_for_churn_prediction\")"
   ]
  },
  {
   "cell_type": "code",
   "execution_count": 53,
   "id": "a483a793",
   "metadata": {},
   "outputs": [],
   "source": [
    "loaded_model = tf.keras.models.load_model(\"ann_model_for_churn_prediction\")"
   ]
  },
  {
   "cell_type": "code",
   "execution_count": 54,
   "id": "8d5c6eb2",
   "metadata": {},
   "outputs": [
    {
     "name": "stdout",
     "output_type": "stream",
     "text": [
      "44/44 [==============================] - 0s 6ms/step - loss: 0.4878 - accuracy: 0.7875\n"
     ]
    },
    {
     "data": {
      "text/plain": [
       "[0.48782289028167725, 0.7874911427497864]"
      ]
     },
     "execution_count": 54,
     "metadata": {},
     "output_type": "execute_result"
    }
   ],
   "source": [
    "loaded_model.evaluate(X_test,y_test)"
   ]
  },
  {
   "cell_type": "markdown",
   "id": "7687a00d",
   "metadata": {},
   "source": [
    "## Tensorboard"
   ]
  },
  {
   "cell_type": "code",
   "execution_count": 57,
   "id": "ad51f7a0",
   "metadata": {
    "scrolled": true
   },
   "outputs": [
    {
     "name": "stdout",
     "output_type": "stream",
     "text": [
      "Epoch 1/100\n",
      "176/176 [==============================] - 2s 6ms/step - loss: 0.5111 - accuracy: 0.7330\n",
      "Epoch 2/100\n",
      "176/176 [==============================] - 1s 6ms/step - loss: 0.4389 - accuracy: 0.7746\n",
      "Epoch 3/100\n",
      "176/176 [==============================] - 1s 6ms/step - loss: 0.4274 - accuracy: 0.7911\n",
      "Epoch 4/100\n",
      "176/176 [==============================] - 1s 7ms/step - loss: 0.4229 - accuracy: 0.7963\n",
      "Epoch 5/100\n",
      "176/176 [==============================] - 1s 7ms/step - loss: 0.4201 - accuracy: 0.7989\n",
      "Epoch 6/100\n",
      "176/176 [==============================] - 1s 7ms/step - loss: 0.4170 - accuracy: 0.8021\n",
      "Epoch 7/100\n",
      "176/176 [==============================] - 1s 7ms/step - loss: 0.4158 - accuracy: 0.8050\n",
      "Epoch 8/100\n",
      "176/176 [==============================] - 1s 7ms/step - loss: 0.4143 - accuracy: 0.8052\n",
      "Epoch 9/100\n",
      "176/176 [==============================] - 1s 6ms/step - loss: 0.4125 - accuracy: 0.8071\n",
      "Epoch 10/100\n",
      "176/176 [==============================] - 1s 7ms/step - loss: 0.4108 - accuracy: 0.8084\n",
      "Epoch 11/100\n",
      "176/176 [==============================] - 1s 8ms/step - loss: 0.4092 - accuracy: 0.8103\n",
      "Epoch 12/100\n",
      "176/176 [==============================] - 1s 7ms/step - loss: 0.4080 - accuracy: 0.8105\n",
      "Epoch 13/100\n",
      "176/176 [==============================] - 1s 7ms/step - loss: 0.4072 - accuracy: 0.8108\n",
      "Epoch 14/100\n",
      "176/176 [==============================] - 1s 7ms/step - loss: 0.4062 - accuracy: 0.8069\n",
      "Epoch 15/100\n",
      "176/176 [==============================] - 1s 7ms/step - loss: 0.4041 - accuracy: 0.8132\n",
      "Epoch 16/100\n",
      "176/176 [==============================] - 1s 7ms/step - loss: 0.4033 - accuracy: 0.8110\n",
      "Epoch 17/100\n",
      "176/176 [==============================] - 1s 6ms/step - loss: 0.4023 - accuracy: 0.8156\n",
      "Epoch 18/100\n",
      "176/176 [==============================] - 1s 6ms/step - loss: 0.4012 - accuracy: 0.8128\n",
      "Epoch 19/100\n",
      "176/176 [==============================] - 1s 7ms/step - loss: 0.4010 - accuracy: 0.8121\n",
      "Epoch 20/100\n",
      "176/176 [==============================] - 1s 7ms/step - loss: 0.3984 - accuracy: 0.8139\n",
      "Epoch 21/100\n",
      "176/176 [==============================] - 1s 7ms/step - loss: 0.3986 - accuracy: 0.8123\n",
      "Epoch 22/100\n",
      "176/176 [==============================] - 1s 6ms/step - loss: 0.3979 - accuracy: 0.8133\n",
      "Epoch 23/100\n",
      "176/176 [==============================] - 1s 7ms/step - loss: 0.3970 - accuracy: 0.8151\n",
      "Epoch 24/100\n",
      "176/176 [==============================] - 1s 6ms/step - loss: 0.3950 - accuracy: 0.8156\n",
      "Epoch 25/100\n",
      "176/176 [==============================] - 1s 7ms/step - loss: 0.3943 - accuracy: 0.8146\n",
      "Epoch 26/100\n",
      "176/176 [==============================] - 1s 7ms/step - loss: 0.3936 - accuracy: 0.8153\n",
      "Epoch 27/100\n",
      "176/176 [==============================] - 1s 7ms/step - loss: 0.3928 - accuracy: 0.8165\n",
      "Epoch 28/100\n",
      "176/176 [==============================] - 1s 7ms/step - loss: 0.3943 - accuracy: 0.8162\n",
      "Epoch 29/100\n",
      "176/176 [==============================] - 1s 6ms/step - loss: 0.3919 - accuracy: 0.8171\n",
      "Epoch 30/100\n",
      "176/176 [==============================] - 1s 7ms/step - loss: 0.3906 - accuracy: 0.8178\n",
      "Epoch 31/100\n",
      "176/176 [==============================] - 1s 7ms/step - loss: 0.3898 - accuracy: 0.8178\n",
      "Epoch 32/100\n",
      "176/176 [==============================] - 1s 7ms/step - loss: 0.3889 - accuracy: 0.8169\n",
      "Epoch 33/100\n",
      "176/176 [==============================] - 1s 7ms/step - loss: 0.3893 - accuracy: 0.8174\n",
      "Epoch 34/100\n",
      "176/176 [==============================] - 1s 6ms/step - loss: 0.3895 - accuracy: 0.8172\n",
      "Epoch 35/100\n",
      "176/176 [==============================] - 1s 6ms/step - loss: 0.3876 - accuracy: 0.8190\n",
      "Epoch 36/100\n",
      "176/176 [==============================] - 1s 6ms/step - loss: 0.3869 - accuracy: 0.8194\n",
      "Epoch 37/100\n",
      "176/176 [==============================] - 1s 7ms/step - loss: 0.3864 - accuracy: 0.8169\n",
      "Epoch 38/100\n",
      "176/176 [==============================] - 1s 7ms/step - loss: 0.3852 - accuracy: 0.8174\n",
      "Epoch 39/100\n",
      "176/176 [==============================] - 1s 7ms/step - loss: 0.3855 - accuracy: 0.8194\n",
      "Epoch 40/100\n",
      "176/176 [==============================] - 1s 7ms/step - loss: 0.3854 - accuracy: 0.8181\n",
      "Epoch 41/100\n",
      "176/176 [==============================] - 1s 7ms/step - loss: 0.3844 - accuracy: 0.8201\n",
      "Epoch 42/100\n",
      "176/176 [==============================] - 1s 7ms/step - loss: 0.3839 - accuracy: 0.8187\n",
      "Epoch 43/100\n",
      "176/176 [==============================] - 1s 7ms/step - loss: 0.3832 - accuracy: 0.8203\n",
      "Epoch 44/100\n",
      "176/176 [==============================] - 1s 6ms/step - loss: 0.3834 - accuracy: 0.8201\n",
      "Epoch 45/100\n",
      "176/176 [==============================] - 1s 7ms/step - loss: 0.3823 - accuracy: 0.8231\n",
      "Epoch 46/100\n",
      "176/176 [==============================] - 1s 8ms/step - loss: 0.3826 - accuracy: 0.8160\n",
      "Epoch 47/100\n",
      "176/176 [==============================] - 1s 7ms/step - loss: 0.3818 - accuracy: 0.8220\n",
      "Epoch 48/100\n",
      "176/176 [==============================] - 1s 7ms/step - loss: 0.3809 - accuracy: 0.8197\n",
      "Epoch 49/100\n",
      "176/176 [==============================] - 1s 7ms/step - loss: 0.3807 - accuracy: 0.8212\n",
      "Epoch 50/100\n",
      "176/176 [==============================] - 1s 7ms/step - loss: 0.3821 - accuracy: 0.8219\n",
      "Epoch 51/100\n",
      "176/176 [==============================] - 1s 7ms/step - loss: 0.3813 - accuracy: 0.8213\n",
      "Epoch 52/100\n",
      "176/176 [==============================] - 1s 7ms/step - loss: 0.3787 - accuracy: 0.8220\n",
      "Epoch 53/100\n",
      "176/176 [==============================] - 1s 7ms/step - loss: 0.3785 - accuracy: 0.8220\n",
      "Epoch 54/100\n",
      "176/176 [==============================] - 1s 7ms/step - loss: 0.3790 - accuracy: 0.8215\n",
      "Epoch 55/100\n",
      "176/176 [==============================] - 1s 7ms/step - loss: 0.3783 - accuracy: 0.8217\n",
      "Epoch 56/100\n",
      "176/176 [==============================] - 1s 7ms/step - loss: 0.3784 - accuracy: 0.8242\n",
      "Epoch 57/100\n",
      "176/176 [==============================] - 1s 7ms/step - loss: 0.3771 - accuracy: 0.8219\n",
      "Epoch 58/100\n",
      "176/176 [==============================] - 1s 7ms/step - loss: 0.3771 - accuracy: 0.8229\n",
      "Epoch 59/100\n",
      "176/176 [==============================] - 1s 7ms/step - loss: 0.3768 - accuracy: 0.8217\n",
      "Epoch 60/100\n",
      "176/176 [==============================] - 1s 7ms/step - loss: 0.3766 - accuracy: 0.8206\n",
      "Epoch 61/100\n",
      "176/176 [==============================] - 1s 7ms/step - loss: 0.3772 - accuracy: 0.8229\n",
      "Epoch 62/100\n",
      "176/176 [==============================] - 1s 7ms/step - loss: 0.3763 - accuracy: 0.8222\n",
      "Epoch 63/100\n",
      "176/176 [==============================] - 1s 7ms/step - loss: 0.3748 - accuracy: 0.8215\n",
      "Epoch 64/100\n",
      "176/176 [==============================] - 1s 7ms/step - loss: 0.3753 - accuracy: 0.8226\n",
      "Epoch 65/100\n",
      "176/176 [==============================] - 1s 7ms/step - loss: 0.3748 - accuracy: 0.8235\n",
      "Epoch 66/100\n",
      "176/176 [==============================] - 1s 7ms/step - loss: 0.3742 - accuracy: 0.8220\n",
      "Epoch 67/100\n",
      "176/176 [==============================] - 1s 7ms/step - loss: 0.3746 - accuracy: 0.8254\n",
      "Epoch 68/100\n",
      "176/176 [==============================] - 1s 7ms/step - loss: 0.3745 - accuracy: 0.8229\n",
      "Epoch 69/100\n",
      "176/176 [==============================] - 1s 7ms/step - loss: 0.3745 - accuracy: 0.8224\n",
      "Epoch 70/100\n",
      "176/176 [==============================] - 1s 7ms/step - loss: 0.3737 - accuracy: 0.8235\n",
      "Epoch 71/100\n",
      "176/176 [==============================] - 1s 7ms/step - loss: 0.3733 - accuracy: 0.8204\n",
      "Epoch 72/100\n",
      "176/176 [==============================] - 1s 7ms/step - loss: 0.3730 - accuracy: 0.8251\n",
      "Epoch 73/100\n",
      "176/176 [==============================] - 1s 7ms/step - loss: 0.3726 - accuracy: 0.8229\n",
      "Epoch 74/100\n",
      "176/176 [==============================] - 1s 7ms/step - loss: 0.3721 - accuracy: 0.8229\n",
      "Epoch 75/100\n",
      "176/176 [==============================] - 1s 7ms/step - loss: 0.3722 - accuracy: 0.8236\n",
      "Epoch 76/100\n",
      "176/176 [==============================] - 1s 7ms/step - loss: 0.3712 - accuracy: 0.8217\n",
      "Epoch 77/100\n",
      "176/176 [==============================] - 1s 7ms/step - loss: 0.3723 - accuracy: 0.8233\n",
      "Epoch 78/100\n",
      "176/176 [==============================] - 1s 7ms/step - loss: 0.3708 - accuracy: 0.8252\n",
      "Epoch 79/100\n",
      "176/176 [==============================] - 1s 7ms/step - loss: 0.3704 - accuracy: 0.8240\n",
      "Epoch 80/100\n",
      "176/176 [==============================] - 1s 7ms/step - loss: 0.3710 - accuracy: 0.8220\n",
      "Epoch 81/100\n"
     ]
    },
    {
     "name": "stdout",
     "output_type": "stream",
     "text": [
      "176/176 [==============================] - 1s 7ms/step - loss: 0.3699 - accuracy: 0.8268\n",
      "Epoch 82/100\n",
      "176/176 [==============================] - 1s 6ms/step - loss: 0.3695 - accuracy: 0.8238\n",
      "Epoch 83/100\n",
      "176/176 [==============================] - 1s 6ms/step - loss: 0.3695 - accuracy: 0.8244\n",
      "Epoch 84/100\n",
      "176/176 [==============================] - 1s 5ms/step - loss: 0.3696 - accuracy: 0.8238\n",
      "Epoch 85/100\n",
      "176/176 [==============================] - 1s 6ms/step - loss: 0.3688 - accuracy: 0.8268\n",
      "Epoch 86/100\n",
      "176/176 [==============================] - 1s 6ms/step - loss: 0.3692 - accuracy: 0.8245\n",
      "Epoch 87/100\n",
      "176/176 [==============================] - 1s 6ms/step - loss: 0.3685 - accuracy: 0.8231\n",
      "Epoch 88/100\n",
      "176/176 [==============================] - 1s 6ms/step - loss: 0.3683 - accuracy: 0.8242\n",
      "Epoch 89/100\n",
      "176/176 [==============================] - 1s 6ms/step - loss: 0.3676 - accuracy: 0.8252\n",
      "Epoch 90/100\n",
      "176/176 [==============================] - 1s 5ms/step - loss: 0.3670 - accuracy: 0.8245\n",
      "Epoch 91/100\n",
      "176/176 [==============================] - 1s 6ms/step - loss: 0.3660 - accuracy: 0.8249\n",
      "Epoch 92/100\n",
      "176/176 [==============================] - 1s 7ms/step - loss: 0.3668 - accuracy: 0.8252\n",
      "Epoch 93/100\n",
      "176/176 [==============================] - 1s 7ms/step - loss: 0.3668 - accuracy: 0.8238\n",
      "Epoch 94/100\n",
      "176/176 [==============================] - 1s 7ms/step - loss: 0.3666 - accuracy: 0.8267\n",
      "Epoch 95/100\n",
      "176/176 [==============================] - 1s 7ms/step - loss: 0.3664 - accuracy: 0.8272\n",
      "Epoch 96/100\n",
      "176/176 [==============================] - 1s 7ms/step - loss: 0.3658 - accuracy: 0.8270\n",
      "Epoch 97/100\n",
      "176/176 [==============================] - 1s 7ms/step - loss: 0.3659 - accuracy: 0.8256\n",
      "Epoch 98/100\n",
      "176/176 [==============================] - 1s 7ms/step - loss: 0.3643 - accuracy: 0.8281\n",
      "Epoch 99/100\n",
      "176/176 [==============================] - 1s 7ms/step - loss: 0.3653 - accuracy: 0.8268\n",
      "Epoch 100/100\n",
      "176/176 [==============================] - 1s 7ms/step - loss: 0.3658 - accuracy: 0.8274\n"
     ]
    },
    {
     "data": {
      "text/plain": [
       "<keras.callbacks.History at 0x233e3c4a910>"
      ]
     },
     "execution_count": 57,
     "metadata": {},
     "output_type": "execute_result"
    }
   ],
   "source": [
    "ann_model_2 = keras.Sequential([\n",
    "    keras.layers.Dense(20, input_shape=(26,), activation=\"relu\"),\n",
    "    keras.layers.Dense(10, activation=\"relu\"),\n",
    "    keras.layers.Dense(1,  activation=\"sigmoid\")\n",
    "])\n",
    "\n",
    "tb_callback = tf.keras.callbacks.TensorBoard(log_dir=\"logs/adam\", histogram_freq=1)\n",
    "ann_model_2.compile(loss=\"binary_crossentropy\", optimizer=\"adam\", metrics=[\"accuracy\"])\n",
    "\n",
    "ann_model_2.fit(X_train, y_train, epochs=100, callbacks=[tb_callback])"
   ]
  },
  {
   "cell_type": "markdown",
   "id": "2d3a3388",
   "metadata": {},
   "source": [
    "- use the following line in cmd to open tensorboard\n",
    "- tensorboard --logdir logs/"
   ]
  }
 ],
 "metadata": {
  "kernelspec": {
   "display_name": "Python 3 (ipykernel)",
   "language": "python",
   "name": "python3"
  },
  "language_info": {
   "codemirror_mode": {
    "name": "ipython",
    "version": 3
   },
   "file_extension": ".py",
   "mimetype": "text/x-python",
   "name": "python",
   "nbconvert_exporter": "python",
   "pygments_lexer": "ipython3",
   "version": "3.8.12"
  }
 },
 "nbformat": 4,
 "nbformat_minor": 5
}
